{
 "cells": [
  {
   "cell_type": "code",
   "execution_count": null,
   "metadata": {},
   "outputs": [],
   "source": [
    "import numpy as np\n",
    "import cv2\n",
    "from tqdm import tqdm\n",
    "\n",
    "import torch\n",
    "from sgg_benchmark.config import cfg\n",
    "from sgg_benchmark.modeling.detector import build_detection_model\n",
    "\n",
    "def latency_bench(config_file, task):\n",
    "    cfg.merge_from_file(config_file)\n",
    "    cfg.TEST.CUSTUM_EVAL = \"true\"\n",
    "    cfg.freeze()\n",
    "\n",
    "    model = build_detection_model(cfg)\n",
    "    model.to(cfg.MODEL.DEVICE)\n",
    "    model.eval()\n",
    "\n",
    "    # random cv2 image\n",
    "    img = np.random.randint(0, 255, (640, 640, 3), dtype=np.uint8)\n",
    "    img = cv2.cvtColor(img, cv2.COLOR_BGR2RGB)\n",
    "    im = np.array(img)\n",
    "    im = np.ascontiguousarray(im.transpose((2, 0, 1))[::-1])  # HWC to CHW -> BGR to RGB -> contiguous\n",
    "    im = torch.from_numpy(im)  # to torch\n",
    "    dummy_input = im.float()  \n",
    "    dummy_input /= 255.0  \n",
    "    # to cuda\n",
    "    dummy_input = dummy_input.to(cfg.MODEL.DEVICE)\n",
    "\n",
    "    # INIT LOGGERS\n",
    "    starter, ender = torch.cuda.Event(enable_timing=True), torch.cuda.Event(enable_timing=True)\n",
    "    repetitions = 100\n",
    "    timings=np.zeros((repetitions,1))\n",
    "    #GPU-WARM-UP\n",
    "    for _ in tqdm(range(10)):\n",
    "        _ = model([dummy_input], None)\n",
    "    # MEASURE PERFORMANCE\n",
    "    with torch.no_grad():\n",
    "        for rep in tqdm(range(repetitions)):\n",
    "            starter.record()\n",
    "            _ = model([dummy_input], None)\n",
    "            ender.record()\n",
    "            # WAIT FOR GPU SYNC\n",
    "            torch.cuda.synchronize()\n",
    "            curr_time = starter.elapsed_time(ender)\n",
    "            timings[rep] = curr_time\n",
    "\n",
    "    mean_syn = np.sum(timings) / repetitions\n",
    "    std_syn = np.std(timings)\n",
    "    print(mean_syn)\n",
    "\n",
    "    return mean_syn\n",
    "\n",
    "conf = \"/home/maelic/SGG-Benchmark/checkpoints/IndoorVG4/SGDET/penet-yolov8m/config.yml\"\n",
    "\n",
    "latency_bench(conf, \"sgdet\")"
   ]
  }
 ],
 "metadata": {
  "kernelspec": {
   "display_name": "phd",
   "language": "python",
   "name": "python3"
  },
  "language_info": {
   "codemirror_mode": {
    "name": "ipython",
    "version": 3
   },
   "file_extension": ".py",
   "mimetype": "text/x-python",
   "name": "python",
   "nbconvert_exporter": "python",
   "pygments_lexer": "ipython3",
   "version": "3.11.5"
  }
 },
 "nbformat": 4,
 "nbformat_minor": 2
}

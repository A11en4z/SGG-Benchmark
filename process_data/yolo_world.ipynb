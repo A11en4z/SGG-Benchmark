{
 "cells": [
  {
   "cell_type": "code",
   "execution_count": 5,
   "metadata": {},
   "outputs": [
    {
     "name": "stdout",
     "output_type": "stream",
     "text": [
      "['bag', 'basket', 'bin', 'blind', 'book', 'bookshelf', 'bottle', 'bowl', 'box', 'button', 'cabinet', 'camera', 'can', 'carpet', 'ceiling', 'chair', 'clock', 'computer', 'couch', 'counter', 'cup', 'curtain', 'desk', 'dishwasher', 'door', 'drawer', 'eyeglasses', 'faucet', 'floor', 'flower', 'food', 'frame', 'fruit', 'glass', 'hand', 'handle', 'head', 'jacket', 'key', 'keyboard', 'knife', 'knob', 'lamp', 'laptop', 'leg', 'lid', 'light', 'luggage', 'magazine', 'microwave', 'mirror', 'monitor', 'mouse', 'mug', 'oven', 'pan', 'paper', 'pen', 'person', 'phone', 'pillow', 'plant', 'plate', 'poster', 'pot', 'refrigerator', 'remote', 'scissors', 'screen', 'shelf', 'shirt', 'shoe', 'sink', 'speaker', 'stand', 'stove', 'suitcase', 'table', 'television', 'towel', 'toy', 'vase', 'wall', 'window']\n"
     ]
    }
   ],
   "source": [
    "from ultralytics import YOLOWorld as YOLO\n",
    "# Initialize a YOLO-World model\n",
    "model = YOLO(\"yolov8x-worldv2\")  # or select yolov8m/l-world.pt\n",
    "\n",
    "# load classes \n",
    "path = \"classes.txt\"\n",
    "with open(path, \"r\") as f:\n",
    "    classes = f.read().splitlines()\n",
    "print(classes)\n",
    "# Define custom classes\n",
    "model.set_classes(classes)\n",
    "\n",
    "# Save the model with the defined offline vocabulary\n",
    "model.save(\"custom_yolov8x_world.pt\")"
   ]
  },
  {
   "cell_type": "code",
   "execution_count": 16,
   "metadata": {},
   "outputs": [
    {
     "name": "stdout",
     "output_type": "stream",
     "text": [
      "\n",
      "                   from  n    params  module                                       arguments                     \n",
      "  0                  -1  1      2320  ultralytics.nn.modules.conv.Conv             [3, 80, 3, 2]                 \n",
      "  1                  -1  1    115520  ultralytics.nn.modules.conv.Conv             [80, 160, 3, 2]               \n",
      "  2                  -1  3    436800  ultralytics.nn.modules.block.C2f             [160, 160, 3, True]           \n",
      "  3                  -1  1    461440  ultralytics.nn.modules.conv.Conv             [160, 320, 3, 2]              \n",
      "  4                  -1  6   3281920  ultralytics.nn.modules.block.C2f             [320, 320, 6, True]           \n",
      "  5                  -1  1   1844480  ultralytics.nn.modules.conv.Conv             [320, 640, 3, 2]              \n",
      "  6                  -1  6  13117440  ultralytics.nn.modules.block.C2f             [640, 640, 6, True]           \n",
      "  7                  -1  1   3687680  ultralytics.nn.modules.conv.Conv             [640, 640, 3, 2]              \n",
      "  8                  -1  3   6969600  ultralytics.nn.modules.block.C2f             [640, 640, 3, True]           \n",
      "  9                  -1  1   1025920  ultralytics.nn.modules.block.SPPF            [640, 640, 5]                 \n",
      " 10                  -1  1         0  torch.nn.modules.upsampling.Upsample         [None, 2, 'nearest']          \n",
      " 11             [-1, 6]  1         0  ultralytics.nn.modules.conv.Concat           [1]                           \n",
      " 12                  -1  3   8670410  ultralytics.nn.modules.block.C2fAttn         [1280, 640, 3, 320, 10]       \n",
      " 13                  -1  1         0  torch.nn.modules.upsampling.Upsample         [None, 2, 'nearest']          \n",
      " 14             [-1, 4]  1         0  ultralytics.nn.modules.conv.Concat           [1]                           \n",
      " 15                  -1  3   2312805  ultralytics.nn.modules.block.C2fAttn         [960, 320, 3, 160, 5]         \n",
      " 16         [15, 12, 9]  1    806912  ultralytics.nn.modules.block.ImagePoolingAttn[256, [320, 640, 640]]        \n",
      " 17                  15  1    922240  ultralytics.nn.modules.conv.Conv             [320, 320, 3, 2]              \n",
      " 18            [-1, 12]  1         0  ultralytics.nn.modules.conv.Concat           [1]                           \n",
      " 19                  -1  3   8465610  ultralytics.nn.modules.block.C2fAttn         [960, 640, 3, 320, 10]        \n",
      " 20                  -1  1   3687680  ultralytics.nn.modules.conv.Conv             [640, 640, 3, 2]              \n",
      " 21             [-1, 9]  1         0  ultralytics.nn.modules.conv.Concat           [1]                           \n",
      " 22                  -1  3   8670410  ultralytics.nn.modules.block.C2fAttn         [1280, 640, 3, 320, 10]       \n",
      " 23        [15, 19, 22]  1   9211030  ultralytics.nn.modules.head.WorldDetect      [80, 512, False, [320, 640, 640]]\n",
      "YOLOv8x-world summary: 412 layers, 73690217 parameters, 73690201 gradients, 330.8 GFLOPs\n",
      "\n"
     ]
    }
   ],
   "source": [
    "# load new model\n",
    "from ultralytics.nn.tasks import WorldModel\n",
    "model = WorldModel(\"yolov8x-world.yaml\", verbose=True)"
   ]
  },
  {
   "cell_type": "code",
   "execution_count": 23,
   "metadata": {},
   "outputs": [
    {
     "name": "stdout",
     "output_type": "stream",
     "text": [
      "\n",
      "                   from  n    params  module                                       arguments                     \n",
      "  0                  -1  1      2320  ultralytics.nn.modules.conv.Conv             [3, 80, 3, 2]                 \n",
      "  1                  -1  1    115520  ultralytics.nn.modules.conv.Conv             [80, 160, 3, 2]               \n",
      "  2                  -1  3    436800  ultralytics.nn.modules.block.C2f             [160, 160, 3, True]           \n",
      "  3                  -1  1    461440  ultralytics.nn.modules.conv.Conv             [160, 320, 3, 2]              \n",
      "  4                  -1  6   3281920  ultralytics.nn.modules.block.C2f             [320, 320, 6, True]           \n",
      "  5                  -1  1   1844480  ultralytics.nn.modules.conv.Conv             [320, 640, 3, 2]              \n",
      "  6                  -1  6  13117440  ultralytics.nn.modules.block.C2f             [640, 640, 6, True]           \n",
      "  7                  -1  1   3687680  ultralytics.nn.modules.conv.Conv             [640, 640, 3, 2]              \n",
      "  8                  -1  3   6969600  ultralytics.nn.modules.block.C2f             [640, 640, 3, True]           \n",
      "  9                  -1  1   1025920  ultralytics.nn.modules.block.SPPF            [640, 640, 5]                 \n",
      " 10                  -1  1         0  torch.nn.modules.upsampling.Upsample         [None, 2, 'nearest']          \n",
      " 11             [-1, 6]  1         0  ultralytics.nn.modules.conv.Concat           [1]                           \n",
      " 12                  -1  3   7379200  ultralytics.nn.modules.block.C2f             [1280, 640, 3]                \n",
      " 13                  -1  1         0  torch.nn.modules.upsampling.Upsample         [None, 2, 'nearest']          \n",
      " 14             [-1, 4]  1         0  ultralytics.nn.modules.conv.Concat           [1]                           \n",
      " 15                  -1  3   1948800  ultralytics.nn.modules.block.C2f             [960, 320, 3]                 \n",
      " 16                  -1  1    922240  ultralytics.nn.modules.conv.Conv             [320, 320, 3, 2]              \n",
      " 17            [-1, 12]  1         0  ultralytics.nn.modules.conv.Concat           [1]                           \n",
      " 18                  -1  3   7174400  ultralytics.nn.modules.block.C2f             [960, 640, 3]                 \n",
      " 19                  -1  1   3687680  ultralytics.nn.modules.conv.Conv             [640, 640, 3, 2]              \n",
      " 20             [-1, 9]  1         0  ultralytics.nn.modules.conv.Concat           [1]                           \n",
      " 21                  -1  3   7379200  ultralytics.nn.modules.block.C2f             [1280, 640, 3]                \n",
      " 22        [15, 18, 21]  1   8795008  ultralytics.nn.modules.head.Detect           [80, [320, 640, 640]]         \n",
      "YOLOv8x summary: 365 layers, 68229648 parameters, 68229632 gradients, 258.5 GFLOPs\n",
      "\n"
     ]
    }
   ],
   "source": [
    "from ultralytics.nn.tasks import DetectionModel\n",
    "model = DetectionModel(\"yolov8x.yaml\", verbose=True)"
   ]
  }
 ],
 "metadata": {
  "kernelspec": {
   "display_name": "phd",
   "language": "python",
   "name": "python3"
  },
  "language_info": {
   "codemirror_mode": {
    "name": "ipython",
    "version": 3
   },
   "file_extension": ".py",
   "mimetype": "text/x-python",
   "name": "python",
   "nbconvert_exporter": "python",
   "pygments_lexer": "ipython3",
   "version": "3.11.5"
  }
 },
 "nbformat": 4,
 "nbformat_minor": 2
}

{
 "cells": [
  {
   "cell_type": "markdown",
   "id": "504634c4",
   "metadata": {},
   "source": [
    "# SGG YOLO CONVERTER"
   ]
  },
  {
   "cell_type": "markdown",
   "id": "5ce5e327",
   "metadata": {},
   "source": [
    "### This script can convert any SGG annotations file in COCO format (PSG dataset) to YOLO format for object detection training"
   ]
  },
  {
   "cell_type": "code",
   "execution_count": 24,
   "id": "0ab662ce",
   "metadata": {},
   "outputs": [],
   "source": [
    "import os\n",
    "import shutil\n",
    "import random\n",
    "import h5py\n",
    "import json\n",
    "from collections import Counter\n",
    "from tqdm import tqdm\n",
    "\n",
    "data = json.load(open('/home/maelic/Documents/PhD/MyModel/SGG-Benchmark/datasets/psg/psg_train_val.json'))\n",
    "\n",
    "img_path = '/home/maelic/Documents/Datasets/VG/VG_100K'\n",
    "img_data = \"/home/maelic/Documents/PhD/MyModel/SGG-Benchmark/datasets/vg/image_data.json\"\n",
    "img_data = json.load(open(img_data))"
   ]
  },
  {
   "cell_type": "code",
   "execution_count": 29,
   "id": "9d0b5c1f",
   "metadata": {},
   "outputs": [
    {
     "name": "stdout",
     "output_type": "stream",
     "text": [
      "dict_keys(['data', 'thing_classes', 'stuff_classes', 'predicate_classes', 'test_image_ids'])\n",
      "{'file_name': 'train2017/000000285388.jpg', 'height': 500, 'width': 327, 'image_id': '107914', 'pan_seg_file_name': 'panoptic_train2017/000000285388.png', 'segments_info': [{'id': 5463914, 'category_id': 22, 'iscrowd': 0, 'isthing': 1, 'attribute_ids': [], 'gqa_category_id': 813, 'area': 45716}, {'id': 14605006, 'category_id': 113, 'iscrowd': 0, 'isthing': 0, 'attribute_ids': [], 'gqa_category_id': 1645, 'area': 8121}, {'id': 4805982, 'category_id': 116, 'iscrowd': 0, 'isthing': 0, 'attribute_ids': [], 'gqa_category_id': 1578, 'area': 28523}, {'id': 3488836, 'category_id': 126, 'iscrowd': 0, 'isthing': 0, 'attribute_ids': [], 'gqa_category_id': 1582, 'area': 49620}], 'relations': [[0, 3, 3], [1, 0, 3], [2, 1, 3]], 'location': '', 'weather': '', 'annotations': [{'bbox': [21.0, 64.0, 304.0, 481.0], 'bbox_mode': 0, 'category_id': 22}, {'bbox': [0.0, 101.0, 327.0, 183.0], 'bbox_mode': 0, 'category_id': 113}, {'bbox': [0.0, 0.0, 327.0, 210.0], 'bbox_mode': 0, 'category_id': 116}, {'bbox': [0.0, 42.0, 327.0, 500.0], 'bbox_mode': 0, 'category_id': 126}], 'coco_image_id': '285388'}\n",
      "{'width': 500, 'url': 'https://cs.stanford.edu/people/rak248/VG_100K/2370584.jpg', 'height': 334, 'image_id': 2370584, 'coco_id': 548168, 'flickr_id': 6137008571, 'anti_prop': 0.060607736034625305}\n",
      "{'file_name': 'train2017/000000548168.jpg', 'height': 428, 'width': 640, 'image_id': '2370584', 'pan_seg_file_name': 'panoptic_train2017/000000548168.png', 'segments_info': [{'id': 7760229, 'category_id': 0, 'iscrowd': 0, 'isthing': 1, 'area': 58}, {'id': 6775661, 'category_id': 0, 'iscrowd': 0, 'isthing': 1, 'attribute_ids': [], 'gqa_category_id': 1078, 'area': 266}, {'id': 10131097, 'category_id': 0, 'iscrowd': 0, 'isthing': 1, 'attribute_ids': [], 'gqa_category_id': 1669, 'area': 260}, {'id': 4803219, 'category_id': 0, 'iscrowd': 0, 'isthing': 1, 'area': 98}, {'id': 9474450, 'category_id': 0, 'iscrowd': 0, 'isthing': 1, 'area': 647}, {'id': 9409947, 'category_id': 0, 'iscrowd': 0, 'isthing': 1, 'area': 121}, {'id': 11710391, 'category_id': 0, 'iscrowd': 0, 'isthing': 1, 'area': 54}, {'id': 12105406, 'category_id': 0, 'iscrowd': 0, 'isthing': 1, 'area': 73}, {'id': 6778756, 'category_id': 2, 'iscrowd': 0, 'isthing': 1, 'attribute_ids': [], 'gqa_category_id': 265, 'area': 70649}, {'id': 9344415, 'category_id': 2, 'iscrowd': 0, 'isthing': 1, 'attribute_ids': [], 'gqa_category_id': 265, 'area': 2375}, {'id': 4483208, 'category_id': 2, 'iscrowd': 0, 'isthing': 1, 'attribute_ids': [], 'gqa_category_id': 265, 'area': 112537}, {'id': 6186417, 'category_id': 2, 'iscrowd': 0, 'isthing': 1, 'attribute_ids': [605], 'gqa_category_id': 488, 'area': 27982}, {'id': 5598071, 'category_id': 37, 'iscrowd': 0, 'isthing': 1, 'attribute_ids': [], 'gqa_category_id': 1456, 'area': 10337}, {'id': 7045268, 'category_id': 91, 'iscrowd': 0, 'isthing': 0, 'area': 725}, {'id': 5794412, 'category_id': 116, 'iscrowd': 0, 'isthing': 0, 'attribute_ids': [], 'gqa_category_id': 1573, 'area': 16380}, {'id': 13618121, 'category_id': 119, 'iscrowd': 0, 'isthing': 0, 'area': 15582}, {'id': 9219499, 'category_id': 125, 'iscrowd': 0, 'isthing': 0, 'area': 216}], 'relations': [[10, 8, 2], [11, 8, 5], [12, 10, 3], [15, 8, 0], [15, 11, 0], [15, 12, 0], [15, 13, 0], [15, 14, 0]], 'location': '', 'weather': '', 'annotations': [{'bbox': [480.0, 138.0, 486.0, 154.0], 'bbox_mode': 0, 'category_id': 0}, {'bbox': [19.0, 113.0, 36.0, 146.0], 'bbox_mode': 0, 'category_id': 0}, {'bbox': [481.0, 142.0, 497.0, 164.0], 'bbox_mode': 0, 'category_id': 0}, {'bbox': [21.0, 112.0, 29.0, 132.0], 'bbox_mode': 0, 'category_id': 0}, {'bbox': [531.0, 119.0, 559.0, 158.0], 'bbox_mode': 0, 'category_id': 0}, {'bbox': [567.0, 132.0, 581.0, 146.0], 'bbox_mode': 0, 'category_id': 0}, {'bbox': [13.0, 124.0, 23.0, 134.0], 'bbox_mode': 0, 'category_id': 0}, {'bbox': [445.0, 131.0, 454.0, 144.0], 'bbox_mode': 0, 'category_id': 0}, {'bbox': [241.0, 135.0, 640.0, 423.0], 'bbox_mode': 0, 'category_id': 2}, {'bbox': [58.0, 100.0, 156.0, 168.0], 'bbox_mode': 0, 'category_id': 2}, {'bbox': [0.0, 60.0, 639.0, 382.0], 'bbox_mode': 0, 'category_id': 2}, {'bbox': [1.0, 247.0, 250.0, 428.0], 'bbox_mode': 0, 'category_id': 2}, {'bbox': [74.0, 29.0, 640.0, 63.0], 'bbox_mode': 0, 'category_id': 37}, {'bbox': [45.0, 58.0, 217.0, 104.0], 'bbox_mode': 0, 'category_id': 91}, {'bbox': [0.0, 0.0, 397.0, 122.0], 'bbox_mode': 0, 'category_id': 116}, {'bbox': [85.0, 0.0, 625.0, 65.0], 'bbox_mode': 0, 'category_id': 119}, {'bbox': [37.0, 144.0, 73.0, 161.0], 'bbox_mode': 0, 'category_id': 125}], 'coco_image_id': '548168'}\n"
     ]
    }
   ],
   "source": [
    "print(data.keys())\n",
    "print(data['data'][4])\n",
    "print(img_data[50000])\n",
    "for d in data['data']:\n",
    "    if d['coco_image_id'] == '548168':\n",
    "        print(d)\n",
    "        break"
   ]
  },
  {
   "cell_type": "code",
   "execution_count": 30,
   "id": "1e8ca467",
   "metadata": {},
   "outputs": [
    {
     "name": "stdout",
     "output_type": "stream",
     "text": [
      "(334, 500, 3)\n"
     ]
    }
   ],
   "source": [
    "img_prefix = \"/home/maelic/Documents/Datasets/VG/VG_100K\"\n",
    "img_path = img_prefix + '/2370584.jpg'\n",
    "\n",
    "import cv2\n",
    "# img size\n",
    "img = cv2.imread(img_path)\n",
    "print(img.shape)"
   ]
  },
  {
   "cell_type": "code",
   "execution_count": 14,
   "id": "3cee7bef",
   "metadata": {},
   "outputs": [],
   "source": [
    "object_to_idx = {}\n",
    "THING_CLASSES = data['thing_classes']\n",
    "STUFF_CLASSES = data['stuff_classes']\n",
    "CLASSES = THING_CLASSES + STUFF_CLASSES\n",
    "for i, cls in enumerate(CLASSES):\n",
    "    object_to_idx[cls] = str(i)\n",
    "\n",
    "OUT_PATH = \"/home/maelic/Documents/Datasets/VG/PSG/YOLO_anno/\"\n",
    "if not os.path.exists(OUT_PATH):\n",
    "    os.makedirs(OUT_PATH)\n",
    "\n",
    "with open(os.path.join(OUT_PATH, 'classes.txt'), 'w') as f:\n",
    "    for key,v in object_to_idx.items():\n",
    "        f.write(key + '\\n')"
   ]
  },
  {
   "cell_type": "code",
   "execution_count": 21,
   "id": "3789b4df",
   "metadata": {},
   "outputs": [
    {
     "name": "stderr",
     "output_type": "stream",
     "text": [
      "100%|██████████| 46697/46697 [00:24<00:00, 1915.21it/s]\n"
     ]
    }
   ],
   "source": [
    "dest_folder = os.path.join(OUT_PATH, 'annotations')\n",
    "image_dest_folder = os.path.join(OUT_PATH, 'images_all')\n",
    "\n",
    "import numpy as np\n",
    "\n",
    "if not os.path.exists(dest_folder):\n",
    "    os.makedirs(dest_folder)\n",
    "if not os.path.exists(image_dest_folder):\n",
    "    os.makedirs(image_dest_folder)\n",
    "\n",
    "for idx in tqdm(range(len(data['data']))):\n",
    "    image_data = data['data']\n",
    "    img_width = image_data[idx]['width']\n",
    "    img_height = image_data[idx]['height']\n",
    "    image_id = image_data[idx]['image_id']\n",
    "\n",
    "    anno = image_data[idx]['annotations']\n",
    "\n",
    "    for obj in anno:\n",
    "        obj_cat = obj['category_id']\n",
    "        assert 0 <= obj_cat < 133\n",
    "\n",
    "        box = obj['bbox']\n",
    "        # convert to yolo format\n",
    "        x_center = (box[0] + box[2] / 2) / img_width\n",
    "        y_center = (box[1] + box[3] / 2) / img_height\n",
    "        w = box[2] / img_width\n",
    "        h = box[3] / img_height\n",
    "\n",
    "        box = [x_center, y_center, w, h]\n",
    "\n",
    "        # clip to [0, 1]\n",
    "        box = np.clip(box, 0, 1)\n",
    "\n",
    "        with open(os.path.join(dest_folder, str(image_id) + '.txt'), 'a') as f:\n",
    "            f.write(str(obj_cat) + ' ' + str(box[0]) + ' ' + str(box[1]) + ' ' + str(box[2]) + ' ' + str(box[3])+'\\n')\n",
    "    \n",
    "    # copy image to dest folder\n",
    "    shutil.copyfile(os.path.join(img_path, str(image_id)+'.jpg'), os.path.join(image_dest_folder, str(image_id)+'.jpg'))"
   ]
  },
  {
   "cell_type": "markdown",
   "id": "e841b99c",
   "metadata": {},
   "source": [
    "### With val split"
   ]
  },
  {
   "cell_type": "code",
   "execution_count": 10,
   "id": "f2247192",
   "metadata": {},
   "outputs": [],
   "source": [
    "from sklearn.model_selection import train_test_split\n",
    "\n",
    "base_path = OUT_PATH\n",
    "dest_folder = os.path.join(base_path,'annotations')\n",
    "image_dest_folder = os.path.join(base_path,'images_all')\n",
    "\n",
    "if not os.path.exists(dest_folder):\n",
    "    os.makedirs(dest_folder)\n",
    "\n",
    "if not os.path.exists(image_dest_folder):\n",
    "    os.makedirs(image_dest_folder)\n",
    "\n",
    "images = [os.path.join(image_dest_folder, x) for x in os.listdir(image_dest_folder)]\n",
    "annotations = [os.path.join(dest_folder, x) for x in os.listdir(dest_folder) if x[-3:] == \"txt\"]\n",
    "\n",
    "images.sort()\n",
    "annotations.sort()\n",
    "train_images, val_images, train_annotations, val_annotations = train_test_split(images, annotations, test_size = 0.3, random_state = 1)\n",
    "val_images, test_images, val_annotations, test_annotations = train_test_split(val_images, val_annotations, test_size = 0.5, random_state = 1)\n",
    "\n",
    "root_path = 'images/'\n",
    "folders = [base_path+'/train',base_path+'/test',base_path+'/val']\n",
    "for folder in folders:\n",
    "    os.makedirs(os.path.join(folder,root_path))\n",
    "    \n",
    "root_path = 'labels/'\n",
    "for folder in folders:\n",
    "    os.makedirs(os.path.join(folder,root_path))    \n",
    "\n",
    "def move_files_to_folder(list_of_files, destination_folder):\n",
    "    for f in list_of_files:\n",
    "        try:\n",
    "            shutil.move(f, destination_folder)\n",
    "        except:\n",
    "            print(f)\n",
    "            assert False\n",
    "\n",
    "move_files_to_folder(train_images, base_path+'/train/images/')\n",
    "move_files_to_folder(val_images, base_path+'/val/images/')\n",
    "move_files_to_folder(test_images, base_path+'/test/images/')\n",
    "move_files_to_folder(train_annotations, base_path+'/train/labels/')\n",
    "move_files_to_folder(val_annotations, base_path+'/val/labels/')\n",
    "move_files_to_folder(test_annotations, base_path+'/test/labels/')"
   ]
  },
  {
   "cell_type": "markdown",
   "id": "334055f8",
   "metadata": {},
   "source": [
    "### No val split"
   ]
  },
  {
   "cell_type": "code",
   "execution_count": 22,
   "id": "016cb17c",
   "metadata": {},
   "outputs": [],
   "source": [
    "from sklearn.model_selection import train_test_split\n",
    "\n",
    "base_path = OUT_PATH\n",
    "dest_folder = os.path.join(base_path,'annotations')\n",
    "image_dest_folder = os.path.join(base_path,'images_all')\n",
    "\n",
    "if not os.path.exists(dest_folder):\n",
    "    os.makedirs(dest_folder)\n",
    "\n",
    "if not os.path.exists(image_dest_folder):\n",
    "    os.makedirs(image_dest_folder)\n",
    "\n",
    "images = [os.path.join(image_dest_folder, x) for x in os.listdir(image_dest_folder)]\n",
    "annotations = [os.path.join(dest_folder, x) for x in os.listdir(dest_folder) if x[-3:] == \"txt\"]\n",
    "\n",
    "images.sort()\n",
    "annotations.sort()\n",
    "train_images, test_images, train_annotations, test_annotations = train_test_split(images, annotations, test_size = 0.2, random_state = 1)\n",
    "\n",
    "root_path = 'images/'\n",
    "folders = [base_path+'/train',base_path+'/val']\n",
    "for folder in folders:\n",
    "    os.makedirs(os.path.join(folder,root_path))\n",
    "    \n",
    "root_path = 'labels/'\n",
    "for folder in folders:\n",
    "    os.makedirs(os.path.join(folder,root_path))    \n",
    "\n",
    "def move_files_to_folder(list_of_files, destination_folder):\n",
    "    for f in list_of_files:\n",
    "        try:\n",
    "            shutil.move(f, destination_folder)\n",
    "        except:\n",
    "            print(f)\n",
    "            assert False\n",
    "\n",
    "move_files_to_folder(train_images, base_path+'/train/images/')\n",
    "move_files_to_folder(test_images, base_path+'/val/images/')\n",
    "move_files_to_folder(train_annotations, base_path+'/train/labels/')\n",
    "move_files_to_folder(test_annotations, base_path+'/val/labels/')"
   ]
  },
  {
   "cell_type": "code",
   "execution_count": 11,
   "id": "8e2aeb0d",
   "metadata": {},
   "outputs": [],
   "source": [
    "# write the yaml file\n",
    "classes = object_to_idx.keys()\n",
    "\n",
    "train_path = base_path+'train/'\n",
    "val_path = base_path+'val/'\n",
    "test_path = base_path+'test/'\n",
    "\n",
    "n_classes = len(classes)\n",
    "\n",
    "with open(base_path+'/train.yaml', 'w') as f:\n",
    "    f.write('train: '+train_path+'\\n')\n",
    "    f.write('val: '+val_path+'\\n')\n",
    "    f.write('test: '+test_path+'\\n')\n",
    "    f.write('nc: '+str(n_classes)+'\\n')\n",
    "    f.write('names: '+str(list(classes)))"
   ]
  }
 ],
 "metadata": {
  "kernelspec": {
   "display_name": "Python 3",
   "language": "python",
   "name": "python3"
  },
  "language_info": {
   "codemirror_mode": {
    "name": "ipython",
    "version": 3
   },
   "file_extension": ".py",
   "mimetype": "text/x-python",
   "name": "python",
   "nbconvert_exporter": "python",
   "pygments_lexer": "ipython3",
   "version": "3.11.5"
  },
  "vscode": {
   "interpreter": {
    "hash": "916dbcbb3f70747c44a77c7bcd40155683ae19c65e1c03b4aa3499c5328201f1"
   }
  }
 },
 "nbformat": 4,
 "nbformat_minor": 5
}
